{
 "metadata": {
  "name": "",
  "signature": "sha256:a4b03d71eb682bbd20279ee23f48fca588fdc5e7e1797f92abbc3094c953bd90"
 },
 "nbformat": 3,
 "nbformat_minor": 0,
 "worksheets": [
  {
   "cells": [
    {
     "cell_type": "heading",
     "level": 1,
     "metadata": {},
     "source": [
      "Short Introduction to Fitting with <tt>RooFit</tt>"
     ]
    },
    {
     "cell_type": "markdown",
     "metadata": {},
     "source": [
      "<tt>RooFit</tt> is part of the <tt>ROOT</tt> data analysis framework which is heavily used in HEP. The <tt>RooFit</tt> package provides functionalities for data modelling and fitting. It also serves as basis for the <tt>RooStats</tt> package which can be used to perform statistical interpretations of your data. "
     ]
    },
    {
     "cell_type": "markdown",
     "metadata": {},
     "source": [
      "First, you need to load the <tt>ROOT</tt> <tt>python</tt> bindings and a helper scripts to display <tt>ROOT</tt> canvases inline and capture the output from <tt>ROOT</tt>."
     ]
    },
    {
     "cell_type": "code",
     "collapsed": false,
     "input": [
      "import ROOT\n",
      "import rootnotes # for inline display of plots\n",
      "import rootprint # capturing ROOT output\n",
      "c1 = rootnotes.default_canvas();"
     ],
     "language": "python",
     "metadata": {},
     "outputs": []
    },
    {
     "cell_type": "heading",
     "level": 2,
     "metadata": {},
     "source": [
      "A simple example"
     ]
    },
    {
     "cell_type": "markdown",
     "metadata": {},
     "source": [
      "Here we create a \"workspace\" object that provides a factory with a convenient syntax for statistical models and variables. The workspace also provides an I/O mechanism to read/write statistical models and data to/from files.\n",
      "\n",
      "In this example, we create a mixture model of a falling exponential distribution and a Gaussian for a variable x.\n",
      "This is really a marked Poisson process, because in addition to the pdf on x, we also encode that we expect s=50 events from the Gaussian and b=100 events from the falling exponential."
     ]
    },
    {
     "cell_type": "code",
     "collapsed": false,
     "input": [
      "ws = ROOT.RooWorkspace(\"ws\");\n",
      "ws.factory('Gaussian::g(x[0,50],mu[30,10,40],sigma[3])');\n",
      "ws.factory('Exponential::e(x,tau[-.1,-3,0])');\n",
      "ws.factory('SUM::model(s[70,0,200]*g,b[300,0,1000]*e)');\n",
      "%rp ws.Print(\"v\")"
     ],
     "language": "python",
     "metadata": {},
     "outputs": []
    },
    {
     "cell_type": "markdown",
     "metadata": {},
     "source": [
      "Now that we have made the model, we can generate some pseudo data. The <tt>RooAbsPdf::generate</tt> method takes a set of observables to generate plus other options (<a href=https://root.cern.ch/root/html/RooAbsPdf.html#RooAbsPdf:generate>follow this link for more details</a>). If nothing else given, the number of generated events is taken from the expected number of events from the PDF (in this case <code>s+b</code>). Using the option <code>Extended()</code> samples the number of generated events from a Poisson distribution."
     ]
    },
    {
     "cell_type": "code",
     "collapsed": false,
     "input": [
      "# get RooFit objects \n",
      "x = ws.var('x')         # the observable\n",
      "pdf = ws.pdf('model')   # the model (= PDF)\n",
      "# generate 50 events\n",
      "data = pdf.generate(ROOT.RooArgSet(x),50)\n",
      "print \"generate given number of events -> n_events =\",data.sumEntries()\n",
      "del data\n",
      "\n",
      "# set s to 100 and use the Extended option\n",
      "ws.var(\"s\").setVal(100)\n",
      "data = pdf.generate(ROOT.RooArgSet(x),ROOT.RooFit.Extended())\n",
      "print \"draw number of generated events from Poisson distribution with mean mu = s+b, n =\",data.sumEntries()\n",
      "del data\n",
      "\n",
      "# generate s+b=400 events\n",
      "data = pdf.generate(ROOT.RooArgSet(x))\n",
      "print \"nothing specified -> generate expected number of events: s+b =\",data.sumEntries()"
     ],
     "language": "python",
     "metadata": {},
     "outputs": []
    },
    {
     "cell_type": "markdown",
     "metadata": {},
     "source": [
      "We can fit the model to the pseudo data and display the result. The verbosity of the fit can be controlled with the option <code>PrintLevel(N)</code>. The smaller <code>N</code>, the less output will appear (minimum is -1). In order to store, the result of the fit, the option <code>Save()</code> needs to passed as argument. Afterwards, we can access the result of the fit and easily visualise the correlation matrix. The same method works for the covariance matrix."
     ]
    },
    {
     "cell_type": "code",
     "collapsed": false,
     "input": [
      "# make fit\n",
      "fitResult = pdf.fitTo(data,ROOT.RooFit.Save(),ROOT.RooFit.PrintLevel(-1))\n",
      "# display results\n",
      "%rp fitResult.Print(\"v\")\n",
      "print 'best fit value of mean for Gaussian is %.3f \u00b1 %.3f' % (ws.var(\"mu\").getVal(),ws.var(\"mu\").getError())\n",
      "corrHist = fitResult.correlationHist()\n",
      "corrHist.SetStats(False)\n",
      "corrHist.Draw(\"colz text\")\n",
      "c1"
     ],
     "language": "python",
     "metadata": {
      "slideshow": {
       "slide_type": "-"
      }
     },
     "outputs": []
    },
    {
     "cell_type": "heading",
     "level": 2,
     "metadata": {},
     "source": [
      "Illustrating the fit result"
     ]
    },
    {
     "cell_type": "markdown",
     "metadata": {},
     "source": [
      "We can show the result of the fit to the dataset including a visualisation of the fit uncertainty as well as the contribution from the different components. You should always plot the data first in order to ensure the correct normalisation of the PDF (<tt>RooFit</tt> magic...)"
     ]
    },
    {
     "cell_type": "code",
     "collapsed": false,
     "input": [
      "# get frame for observable\n",
      "frame = x.frame()\n",
      "# plot data first\n",
      "data.plotOn(frame)\n",
      "# plot PDF components, total PDF and its uncertainty\n",
      "pdf.plotOn(frame,ROOT.RooFit.LineColor(ROOT.kRed),ROOT.RooFit.LineStyle(ROOT.kDashed),ROOT.RooFit.Components(\"g\"))\n",
      "pdf.plotOn(frame,ROOT.RooFit.LineColor(ROOT.kGreen+3),ROOT.RooFit.LineStyle(ROOT.kDashed),ROOT.RooFit.Components(\"e\"))\n",
      "pdf.plotOn(frame,ROOT.RooFit.VisualizeError(fitResult))\n",
      "pdf.plotOn(frame)\n",
      "# draw everything\n",
      "frame.SetMinimum(0)\n",
      "frame.Draw()\n",
      "c1"
     ],
     "language": "python",
     "metadata": {},
     "outputs": []
    },
    {
     "cell_type": "markdown",
     "metadata": {},
     "source": [
      "We can also plot the (profiled) likelihood function for the individual parameters.<br />\n",
      "<tt>RooAbsPdf::createNLL(data)</tt> calculates the negative log-likelihood function $$\\text{nll} = - \\log \\frac{L(\\vec{\\mu},\\vec{\\theta})}{L(\\hat{\\vec{\\mu}}, \\hat{\\vec{\\theta}})} = -\\sum_{d \\in \\text{data}} \\left[ \\log \\left( P(d|\\vec{\\mu},\\vec{\\theta}) \\right) - \\log \\left( P(d|\\hat{\\vec{\\mu}},\\hat{\\vec{\\theta}}) \\right) \\right]$$ which can be used to construct a profiled likelihood function\n",
      "$$\\text{profile} = - \\log \\frac{L(\\vec{\\mu},\\hat{\\hat{\\vec{\\theta}}})}{L(\\hat{\\vec{\\mu}}, \\hat{\\vec{\\theta}})}$$\n",
      "using <tt>RooProfileVar.createProfile(parameters of interest)</tt>."
     ]
    },
    {
     "cell_type": "code",
     "collapsed": false,
     "input": [
      "# get the parameter of interest\n",
      "s=ws.var('s')\n",
      "sframe=s.frame(ROOT.RooFit.Title(\"Likelihood function\"))\n",
      "nll = pdf.createNLL(data)\n",
      "profile = nll.createProfile(ROOT.RooArgSet(s))\n",
      "profile.plotOn(sframe,ROOT.RooFit.Name(\"profile\"))\n",
      "nll.plotOn(sframe,ROOT.RooFit.LineColor(ROOT.kRed),ROOT.RooFit.LineStyle(ROOT.kDashed),ROOT.RooFit.ShiftToZero(),ROOT.RooFit.Name(\"nll\"))\n",
      "sframe.SetMinimum(0)\n",
      "sframe.Draw()\n",
      "# add legend\n",
      "leg = ROOT.TLegend(0.7,0.7,0.9,0.9)\n",
      "leg.SetFillColor(ROOT.kWhite)\n",
      "leg.SetTextSize(0.03)\n",
      "leg.AddEntry(sframe.findObject(\"nll\"),\"- #frac{L(s)}{L(#hat{s})}\",\"l\")\n",
      "leg.AddEntry(sframe.findObject(\"profile\"),\"- #frac{L(s)}{L(#hat{s})} (profiled)\",\"l\")\n",
      "leg.Draw()\n",
      "c1"
     ],
     "language": "python",
     "metadata": {},
     "outputs": []
    },
    {
     "cell_type": "heading",
     "level": 2,
     "metadata": {},
     "source": [
      "Understanding <tt>RooFit</tt>"
     ]
    },
    {
     "cell_type": "heading",
     "level": 3,
     "metadata": {},
     "source": [
      "What are <i>observables</i>, <i>conditional observables</i> and <i>parameters</i>?"
     ]
    },
    {
     "cell_type": "markdown",
     "metadata": {},
     "source": [
      "<tt>RooFit</tt> accepts any function $f(a,b,c,d,\\dots)$ as PDF. Let's assume we have the function $f(x,\\mu,\\sigma)$ being the Gaussian distribution. Technically, there is no difference between the input parameters, i.e. given a value of $x$, $\\mu$ and $\\sigma$ we will always get the same result. However, in the concept of statistics we clearly assign different roles to these variables. The parameter $x$ is called an <i>observable</i> while $\\mu$ and $\\sigma$ are <i>parameters</i>. The important difference is that a PDF is normalised to unity when integrating over the <i>observables</i>, that is $$\\int dx G(x,\\mu,\\sigma) = 1$$ but there is no normalisation condition for the integration over the <i>parameters</i>. <tt>RooFit</tt> takes care of the correct normalisation of the PDF taking into account the ranges of the observables. <br /> When generating datasets, the list of observables has to be given explicitly while during a fit, the list of observables is determined automatically. Thereby the list of observables is defined as the set of variables which are simultaneously members of the dataset and parameters of the PDF. In general, <tt>RooFit</tt> distinguishes between\n",
      "<ul>\n",
      "<li>observables (= variables used for the normalisation of the PDF)</li>\n",
      "<li>conditional observables (= variables are members of the dataset but not used for the normalisation)</li>\n",
      "<li>parameters (= variables of the PDF which are <b>not</b> member of the dataset)</li>\n",
      "</ul>"
     ]
    },
    {
     "cell_type": "code",
     "collapsed": false,
     "input": [
      "# create dummy gaussian\n",
      "w = ROOT.RooWorkspace()\n",
      "w.factory(\"Gaussian::g(x[-10,10],mu[0,-5,5],sigma[1,0.1,5])\")\n",
      "g = w.pdf(\"g\")\n",
      "\n",
      "# generate dataset specifying explicitly the set of observables\n",
      "d = g.generate(ROOT.RooArgSet(w.var(\"x\")),1)\n",
      "print \"observables:\"\n",
      "%rp g.getObservables(d).Print(\"v\")\n",
      "print \"parameters\"\n",
      "%rp g.getParameters(d).Print(\"v\")\n",
      "\n",
      "# get normalisation constant (e.g. for a Gaussian that is #sqrt(2 * pi) * sigma)\n",
      "from math import sqrt, pi\n",
      "print \"sqrt(2 * pi) * sigma =\", sqrt(2 * pi) * w.var(\"sigma\").getVal()\n",
      "print \"norm constant for x in [-10,10] =\",g.getNorm(d.get()) \n",
      "w.var(\"x\").setMin(0)\n",
      "print \"norm constant for x in [0,10] =\",g.getNorm(d.get()) \n",
      "w.var(\"x\").setMin(-10)"
     ],
     "language": "python",
     "metadata": {},
     "outputs": []
    },
    {
     "cell_type": "code",
     "collapsed": false,
     "input": [
      "# generate dataset specifying with multiple observables\n",
      "d = g.generate(ROOT.RooArgSet(w.var(\"x\"),w.var(\"sigma\")),1)\n",
      "\n",
      "print \"observables:\"\n",
      "%rp g.getObservables(d).Print(\"v\")\n",
      "print \"parameters\"\n",
      "%rp g.getParameters(d).Print(\"v\")\n",
      "print \"sqrt(2 * pi) * sigma =\", sqrt(2 * pi) * w.var(\"sigma\").getVal()\n",
      "print \"norm constant for x in [-10,10] =\",g.getNorm(d.get()) "
     ],
     "language": "python",
     "metadata": {},
     "outputs": []
    },
    {
     "cell_type": "code",
     "collapsed": false,
     "input": [
      "import os\n",
      "from IPython.display import Image\n",
      "pdf.graphVizTree('expressionTree.dot',' ')\n",
      "os.system(\"dot -Tpng expressionTree.dot -o Graph.png\")\n",
      "Image(filename='Graph.png')"
     ],
     "language": "python",
     "metadata": {},
     "outputs": []
    }
   ],
   "metadata": {}
  }
 ]
}