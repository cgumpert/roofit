{
 "metadata": {
  "name": "",
  "signature": "sha256:9380991897b31a802ebc4b5a20434cc84ab0e3d52dbd837b0ee14ed5855553ba"
 },
 "nbformat": 3,
 "nbformat_minor": 0,
 "worksheets": [
  {
   "cells": [
    {
     "cell_type": "heading",
     "level": 1,
     "metadata": {},
     "source": [
      "Short Introduction to Fitting with <tt>RooFit</tt>"
     ]
    },
    {
     "cell_type": "markdown",
     "metadata": {},
     "source": [
      "<tt>RooFit</tt> is part of the <tt>ROOT</tt> data analysis framework which is heavily used in HEP. The <tt>RooFit</tt> package provides functionalities for data modelling and fitting. It also serves as basis for the <tt>RooStats</tt> package which can be used to perform statistical interpretations of your data. "
     ]
    },
    {
     "cell_type": "markdown",
     "metadata": {},
     "source": [
      "First, you need to load the <tt>ROOT</tt> <tt>python</tt> bindings and a helper scripts to display <tt>ROOT</tt> canvases inline and capture the output from <tt>ROOT</tt>."
     ]
    },
    {
     "cell_type": "code",
     "collapsed": false,
     "input": [
      "import ROOT\n",
      "import rootnotes # for inline display of plots\n",
      "import rootprint # capturing ROOT output\n",
      "c1 = rootnotes.default_canvas();"
     ],
     "language": "python",
     "metadata": {},
     "outputs": []
    },
    {
     "cell_type": "heading",
     "level": 2,
     "metadata": {},
     "source": [
      "A simple example"
     ]
    },
    {
     "cell_type": "markdown",
     "metadata": {},
     "source": [
      "Here we create a \"workspace\" object that provides a <code>factory</code> method with a convenient syntax for creating statistical models and variables. The workspace also provides an I/O mechanism to read/write statistical models and data to/from files.\n",
      "\n",
      "In this example, we create a mixture model of a falling exponential distribution and a Gaussian for a variable x.\n",
      "This is extented by a Poisson process, because in addition to the pdf on x, we also encode that we expect s=50 events from the Gaussian and b=100 events from the falling exponential."
     ]
    },
    {
     "cell_type": "code",
     "collapsed": false,
     "input": [
      "# create a workspace\n",
      "ws = ROOT.RooWorkspace(\"ws\");\n",
      "# create a Gaussian PDF named 'g' and the corresponding variables with their ranges\n",
      "ws.factory('Gaussian::g(x[0,50],mu[30,10,40],sigma[3])');\n",
      "# create an Exponential PDF named 'e'\n",
      "ws.factory('Exponential::e(x,tau[-.1,-3,0])');\n",
      "# build the composite model\n",
      "ws.factory('SUM::model(s[70,0,200]*g,b[300,0,1000]*e)');\n",
      "%rp ws.Print(\"v\")"
     ],
     "language": "python",
     "metadata": {},
     "outputs": []
    },
    {
     "cell_type": "markdown",
     "metadata": {},
     "source": [
      "Now that we have made the model, we can generate some pseudo data. The <tt>RooAbsPdf::generate</tt> method takes a set of observables to generate plus other options (<a href=https://root.cern.ch/root/html/RooAbsPdf.html#RooAbsPdf:generate>follow this link for more details</a>). If nothing else given, the number of generated events is taken from the expected number of events from the PDF (in this case <code>s+b</code>). Using the option <code>Extended()</code> samples the number of generated events from a Poisson distribution."
     ]
    },
    {
     "cell_type": "code",
     "collapsed": false,
     "input": [
      "# get RooFit objects \n",
      "x = ws.var('x')         # the observable\n",
      "pdf = ws.pdf('model')   # the model (= PDF)\n",
      "# generate 50 events\n",
      "data = pdf.generate(ROOT.RooArgSet(x),50)\n",
      "print \"generate given number of events -> n_events =\",data.sumEntries()\n",
      "del data\n",
      "\n",
      "# set s to 100 and use the Extended option\n",
      "ws.var(\"s\").setVal(100)\n",
      "data = pdf.generate(ROOT.RooArgSet(x),ROOT.RooFit.Extended())\n",
      "print \"draw number of generated events from Poisson distribution with mean mu = s+b, n =\",data.sumEntries()\n",
      "del data\n",
      "\n",
      "# generate s+b=400 events\n",
      "data = pdf.generate(ROOT.RooArgSet(x))\n",
      "print \"nothing specified -> generate expected number of events: s+b =\",data.sumEntries()"
     ],
     "language": "python",
     "metadata": {},
     "outputs": []
    },
    {
     "cell_type": "markdown",
     "metadata": {},
     "source": [
      "We can fit the model to the pseudo data and display the result. The verbosity of the fit can be controlled with the option <code>PrintLevel(N)</code>. The smaller <code>N</code>, the less output will appear (minimum is -1). In order to store, the result of the fit, the option <code>Save()</code> needs to passed as argument. Afterwards, we can access the result of the fit and easily visualise the correlation matrix. The same method works for the covariance matrix."
     ]
    },
    {
     "cell_type": "code",
     "collapsed": false,
     "input": [
      "# make fit\n",
      "fitResult = pdf.fitTo(data,ROOT.RooFit.Save(),ROOT.RooFit.PrintLevel(-1))\n",
      "# display results\n",
      "%rp fitResult.Print(\"v\")\n",
      "print 'best fit value for mean of Gaussian is %.3f \u00b1 %.3f' % (ws.var(\"mu\").getVal(),ws.var(\"mu\").getError())\n",
      "corrHist = fitResult.correlationHist()\n",
      "corrHist.SetStats(False)\n",
      "corrHist.Draw(\"colz text\")\n",
      "c1"
     ],
     "language": "python",
     "metadata": {
      "slideshow": {
       "slide_type": "-"
      }
     },
     "outputs": []
    },
    {
     "cell_type": "heading",
     "level": 2,
     "metadata": {},
     "source": [
      "Illustrating the fit result"
     ]
    },
    {
     "cell_type": "markdown",
     "metadata": {},
     "source": [
      "We can show the result of the fit to the dataset including a visualisation of the fit uncertainty as well as the contribution from the different components. You should always plot the data first in order to ensure the correct normalisation of the PDF (<tt>RooFit</tt> magic...)"
     ]
    },
    {
     "cell_type": "code",
     "collapsed": false,
     "input": [
      "# get frame for observable\n",
      "frame = x.frame()\n",
      "# plot data first\n",
      "data.plotOn(frame)\n",
      "# plot PDF components, total PDF and its uncertainty\n",
      "pdf.plotOn(frame,ROOT.RooFit.LineColor(ROOT.kRed),ROOT.RooFit.LineStyle(ROOT.kDashed),ROOT.RooFit.Components(\"g\"))\n",
      "pdf.plotOn(frame,ROOT.RooFit.LineColor(ROOT.kGreen+3),ROOT.RooFit.LineStyle(ROOT.kDashed),ROOT.RooFit.Components(\"e\"))\n",
      "pdf.plotOn(frame,ROOT.RooFit.VisualizeError(fitResult))\n",
      "pdf.plotOn(frame)\n",
      "# draw everything\n",
      "frame.SetMinimum(0)\n",
      "frame.Draw()\n",
      "c1"
     ],
     "language": "python",
     "metadata": {},
     "outputs": []
    },
    {
     "cell_type": "markdown",
     "metadata": {},
     "source": [
      "We can also plot the (profiled) likelihood function for the individual parameters.<br />\n",
      "<tt>RooAbsPdf::createNLL(data)</tt> calculates the negative log-likelihood function $$\\text{nll} = - \\log \\frac{L(\\vec{\\mu},\\vec{\\theta})}{L(\\hat{\\vec{\\mu}}, \\hat{\\vec{\\theta}})} = -\\sum_{d \\in \\text{data}} \\left[ \\log \\left( P(d|\\vec{\\mu},\\vec{\\theta}) \\right) - \\log \\left( P(d|\\hat{\\vec{\\mu}},\\hat{\\vec{\\theta}}) \\right) \\right]$$ which can be used to construct a profiled likelihood function\n",
      "$$\\text{profile} = - \\log \\frac{L(\\vec{\\mu},\\hat{\\hat{\\vec{\\theta}}})}{L(\\hat{\\vec{\\mu}}, \\hat{\\vec{\\theta}})}$$\n",
      "using <tt>RooProfileVar.createProfile(parameters of interest)</tt>."
     ]
    },
    {
     "cell_type": "code",
     "collapsed": false,
     "input": [
      "# get the parameter of interest\n",
      "s=ws.var('s')\n",
      "sframe=s.frame(ROOT.RooFit.Title(\"Likelihood function\"))\n",
      "# get NLL\n",
      "nll = pdf.createNLL(data)\n",
      "# create profile\n",
      "profile = nll.createProfile(ROOT.RooArgSet(s))\n",
      "profile.plotOn(sframe,ROOT.RooFit.Name(\"profile\"))\n",
      "nll.plotOn(sframe,ROOT.RooFit.LineColor(ROOT.kRed),ROOT.RooFit.LineStyle(ROOT.kDashed),ROOT.RooFit.ShiftToZero(),ROOT.RooFit.Name(\"nll\"))\n",
      "sframe.SetMinimum(0)\n",
      "sframe.Draw()\n",
      "# add legend\n",
      "leg = ROOT.TLegend(0.7,0.7,0.9,0.9)\n",
      "leg.SetFillColor(ROOT.kWhite)\n",
      "leg.SetTextSize(0.03)\n",
      "leg.AddEntry(sframe.findObject(\"nll\"),\"- #frac{L(s)}{L(#hat{s})}\",\"l\")\n",
      "leg.AddEntry(sframe.findObject(\"profile\"),\"- #frac{L(s)}{L(#hat{s})} (profiled)\",\"l\")\n",
      "leg.Draw()\n",
      "c1"
     ],
     "language": "python",
     "metadata": {},
     "outputs": []
    },
    {
     "cell_type": "heading",
     "level": 2,
     "metadata": {},
     "source": [
      "Understanding <tt>RooFit</tt>"
     ]
    },
    {
     "cell_type": "heading",
     "level": 3,
     "metadata": {},
     "source": [
      "What are <i>observables</i>, <i>conditional observables</i> and <i>parameters</i>?"
     ]
    },
    {
     "cell_type": "markdown",
     "metadata": {},
     "source": [
      "<tt>RooFit</tt> accepts any function $f(a,b,c,d,\\dots)$ as PDF. Let's assume we have the function $f(x,\\mu,\\sigma)$ being the Gaussian distribution. Technically, there is no difference between the input parameters, i.e. given a value of $x$, $\\mu$ and $\\sigma$ we will always get the same result. However, in the concept of statistics we clearly assign different roles to these variables. The parameter $x$ is called an <i>observable</i> while $\\mu$ and $\\sigma$ are <i>parameters</i>. The important difference is that a PDF is normalised to unity when integrating over the <i>observables</i>, that is $$\\int_{x_0}^{x_1} dx G(x,\\mu,\\sigma) = 1$$ but there is no normalisation condition for the integration over the <i>parameters</i>. Thus, the interpretation of variables is context dependent in <tt>RooFit</tt>. <br />\n",
      "When generating datasets, the list of observables has to be given explicitly while during a fit, the list of observables is determined automatically. Thereby the list of observables is defined as the set of variables which are simultaneously members of the dataset and parameters of the PDF. In general, <tt>RooFit</tt> distinguishes between\n",
      "<ul>\n",
      "<li>observables (= variables used for the normalisation of the PDF)</li>\n",
      "<li>conditional observables (= variables are members of the dataset but not used for the normalisation)</li>\n",
      "<li>parameters (= variables of the PDF which are <b>not</b> member of the dataset)</li>\n",
      "</ul>"
     ]
    },
    {
     "cell_type": "code",
     "collapsed": false,
     "input": [
      "# get Gaussian PDF\n",
      "g = ws.pdf(\"g\")\n",
      "\n",
      "# generate dataset specifying with multiple observables\n",
      "print \"dataset with multiple variables\"\n",
      "d = g.generate(ROOT.RooArgSet(ws.var(\"x\"),ws.var(\"mu\")),1)\n",
      "print \"observables:\"\n",
      "%rp g.getObservables(d).Print(\"v\")\n",
      "print \"parameters\"\n",
      "%rp g.getParameters(d).Print(\"v\")\n",
      "del d\n",
      "\n",
      "# generate dataset specifying explicitly the set of observables\n",
      "print \"\\ndataset with one variable\"\n",
      "d = g.generate(ROOT.RooArgSet(ws.var(\"x\")),1)\n",
      "print \"observables:\"\n",
      "%rp g.getObservables(d).Print(\"v\")\n",
      "print \"parameters\"\n",
      "%rp g.getParameters(d).Print(\"v\")"
     ],
     "language": "python",
     "metadata": {},
     "outputs": []
    },
    {
     "cell_type": "markdown",
     "metadata": {},
     "source": [
      " <tt>RooFit</tt> takes care of the correct normalisation of the PDF considering the ranges of the observables. E.g. for a Gaussian PDF with $x \\in [-\\infty,\\infty]$ the normalisation constant is $c = \\sqrt{2 \\pi} \\sigma$. As a consequence, having observables with \"very restricted\" ranges (e.g. $x \\in [-1,1]$ for a normal distribution) significantly impacts the normalisation."
     ]
    },
    {
     "cell_type": "code",
     "collapsed": false,
     "input": [
      "# get normalisation constant (e.g. for a Gaussian that is #sqrt(2 * pi) * sigma)\n",
      "from math import sqrt, pi\n",
      "print \"sqrt(2 * pi) * sigma =\", sqrt(2 * pi) * ws.var(\"sigma\").getVal()\n",
      "print \"norm constant =\",g.getNorm(d.get()) \n",
      "ws.var(\"x\").setMin(30)\n",
      "print \"norm constant for changed x-range =\",g.getNorm(d.get()) \n",
      "ws.var(\"x\").setMin(0)\n",
      "\n",
      "# visualise different normalisations\n",
      "f = frame.emptyClone(\"clone\")\n",
      "g.plotOn(f)\n",
      "g.plotOn(f,ROOT.RooFit.Range(30,50),ROOT.RooFit.LineColor(ROOT.kRed))\n",
      "f.Draw()\n",
      "c1"
     ],
     "language": "python",
     "metadata": {},
     "outputs": []
    },
    {
     "cell_type": "markdown",
     "metadata": {},
     "source": [
      "Nevertheless, it is still possible to display a PDF in a sub-range while applying the total normalisation using the <code>NormRange</code> option."
     ]
    },
    {
     "cell_type": "code",
     "collapsed": false,
     "input": [
      "# plot pdf for restricted range with \"correct normalisation\"\n",
      "ws.var(\"x\").setRange(\"total\",ws.var(\"x\").getMin(),ws.var(\"x\").getMax())\n",
      "g.plotOn(f,ROOT.RooFit.Range(30,50),ROOT.RooFit.NormRange(\"total\"),ROOT.RooFit.LineColor(ROOT.kGreen+3))\n",
      "f.Draw()\n",
      "c1"
     ],
     "language": "python",
     "metadata": {},
     "outputs": []
    },
    {
     "cell_type": "heading",
     "level": 3,
     "metadata": {},
     "source": [
      "Internal Dependencies"
     ]
    },
    {
     "cell_type": "markdown",
     "metadata": {},
     "source": [
      "<tt>RooFit</tt> implements a <i>Client-Server</i> concept for internal dependencies of <tt>C++</tt> objects. For instance, a <code>RooAbsPdf</code> object (client) depends on one or more <code>RooRealVar</code> objects (servers). When a server changes its internal state (e.g. updated value, changed range etc), it notifies all clients which in turn can react to these modifications. On the other hand, these <i>\"hidden\"</i> internal links can sometimes cause some confusion."
     ]
    },
    {
     "cell_type": "code",
     "collapsed": false,
     "input": [
      "# clients of the Gaussian PDF\n",
      "print \"clients:\"\n",
      "it = g.clientIterator()\n",
      "o = it.Next()\n",
      "while o:\n",
      "    %rp o.Print()\n",
      "    o = it.Next()\n",
      "    \n",
      "# server of the Gaussian PDF\n",
      "print \"server:\"\n",
      "it = g.serverIterator()\n",
      "o = it.Next()\n",
      "while o:\n",
      "    %rp o.Print()\n",
      "    o = it.Next()    "
     ],
     "language": "python",
     "metadata": {},
     "outputs": []
    },
    {
     "cell_type": "code",
     "collapsed": false,
     "input": [
      "import os\n",
      "from IPython.display import Image\n",
      "pdf.graphVizTree('expressionTree.dot',' ')\n",
      "os.system(\"dot -Tpng expressionTree.dot -o Graph.png\")\n",
      "Image(filename='Graph.png')"
     ],
     "language": "python",
     "metadata": {},
     "outputs": []
    },
    {
     "cell_type": "markdown",
     "metadata": {},
     "source": [
      "Changing the value of one object can affect the state and behaviour of all clients."
     ]
    },
    {
     "cell_type": "code",
     "collapsed": false,
     "input": [
      "print \"PDF(x=%.0f) = %.3f\" %(ws.var(\"x\").getVal(),ws.pdf(\"model\").getVal())\n",
      "ws.var(\"x\").setVal(ws.var(\"x\").getVal()+5)\n",
      "print \"PDF(x=%.0f) = %.3f\" %(ws.var(\"x\").getVal(),ws.pdf(\"model\").getVal())"
     ],
     "language": "python",
     "metadata": {},
     "outputs": []
    },
    {
     "cell_type": "markdown",
     "metadata": {},
     "source": [
      "It is crucial to keep this underlying behaviour in mind, especially when running pseudo-experiments.<br />\n",
      "<code>\n",
      "for nToys:\n",
      "    1. generate pseudo data\n",
      "    2. fit pseudo data\n",
      "    3. examine fit result\n",
      "</code>\n",
      "This approach would fail, as the subsequent generation of pseudo-data would use the parameter values of the last fit. This problem can be circumvent with <tt>snapshot</tt>."
     ]
    },
    {
     "cell_type": "heading",
     "level": 3,
     "metadata": {},
     "source": [
      "Using <tt>snapshots</tt>"
     ]
    },
    {
     "cell_type": "markdown",
     "metadata": {},
     "source": [
      "As an example we would like to estimate the expected statistical uncertainty on the number of signal events from the simple example above using toy experiments. To this end, we prepare the workspace with the initial parameter values which get saved in a named \"snapshot\". A snpshot contains the internal state of all given variables including their values, errors and constness."
     ]
    },
    {
     "cell_type": "code",
     "collapsed": false,
     "input": [
      "# setup our model/restore parameter values\n",
      "ws.var(\"s\").setVal(100)\n",
      "ws.var(\"b\").setVal(300)\n",
      "ws.var(\"mu\").setVal(30)\n",
      "ws.var(\"tau\").setVal(-0.1)\n",
      "# save a snapshot\n",
      "ws.saveSnapshot(\"parameter_point\",\"s,b,mu,tau,sigma\")\n",
      "# the snapshot is now saved in the workspace\n",
      "%rp ws.Print(\"v\")\n",
      "\n",
      "# show the example pdf\n",
      "d = pdf.generate(ROOT.RooArgSet(ws.var(\"x\")))\n",
      "frame = frame.emptyClone(\"new frame\")\n",
      "d.plotOn(frame)\n",
      "pdf.plotOn(frame)\n",
      "frame.Draw()\n",
      "c1"
     ],
     "language": "python",
     "metadata": {},
     "outputs": []
    },
    {
     "cell_type": "markdown",
     "metadata": {},
     "source": [
      "The following cell generates the sampling distribution of $s$ using toys. First, run the cell as it is. Then, uncomment the third line and run again."
     ]
    },
    {
     "cell_type": "code",
     "collapsed": false,
     "input": [
      "h_s1 = ROOT.TH1F(\"h_s1\",\"fitted signal yield;s;toys\",100,ws.var(\"s\").getMin(),ws.var(\"s\").getMax())\n",
      "for i in range(0,1000):\n",
      "    #ws.loadSnapshot(\"parameter_point\")\n",
      "    d = pdf.generate(ROOT.RooArgSet(ws.var(\"x\")))\n",
      "    pdf.fitTo(d)\n",
      "    h_s1.Fill(ws.var(\"s\").getVal())\n",
      "    del d\n",
      "h_s1.Draw()\n",
      "c1"
     ],
     "language": "python",
     "metadata": {},
     "outputs": []
    },
    {
     "cell_type": "markdown",
     "metadata": {},
     "source": [
      "One can also create snapshots from <tt>RooArgSet</tt> objects directly. These copies are then independent of their originals."
     ]
    },
    {
     "cell_type": "code",
     "collapsed": false,
     "input": [
      "# create an argset and save a copy\n",
      "argset = ROOT.RooArgSet(ws.var(\"x\"),ws.var(\"mu\"),ws.var(\"sigma\"))\n",
      "copy = argset.snapshot()\n",
      "print \"=========== initial values ====================\"\n",
      "%rp argset.Print(\"v\")\n",
      "%rp copy.Print(\"v\")\n",
      "\n",
      "# modify the state of some variables\n",
      "ws.var(\"sigma\").setConstant(False)\n",
      "ws.var(\"x\").setVal(12)\n",
      "print \"=========== modified values ====================\"\n",
      "%rp argset.Print(\"v\")\n",
      "%rp copy.Print(\"v\")\n",
      "\n",
      "# restore everything (assignment copies values, errors and constness for all variables with same name)\n",
      "argset = copy\n",
      "print \"=========== restored values ====================\"\n",
      "%rp argset.Print(\"v\")"
     ],
     "language": "python",
     "metadata": {},
     "outputs": []
    },
    {
     "cell_type": "heading",
     "level": 2,
     "metadata": {},
     "source": [
      "Fitting ranges"
     ]
    },
    {
     "cell_type": "markdown",
     "metadata": {},
     "source": [
      "It is possible to specify named ranges of variables which can be used during fitting/plotting. The example below defines a signal and sideband regions based on the expected position of the peak and its width."
     ]
    },
    {
     "cell_type": "code",
     "collapsed": false,
     "input": [
      "ws.loadSnapshot(\"parameter_point\")\n",
      "ws.var(\"x\").setRange(\"signal_region\",ws.var(\"mu\").getVal() - 3*ws.var(\"sigma\").getVal(),ws.var(\"mu\").getVal() + 3*ws.var(\"sigma\").getVal())\n",
      "ws.var(\"x\").setRange(\"left_sideband\",ws.var(\"x\").getMin(),ws.var(\"mu\").getVal() - 3*ws.var(\"sigma\").getVal())\n",
      "ws.var(\"x\").setRange(\"right_sideband\",ws.var(\"mu\").getVal() + 3*ws.var(\"sigma\").getVal(),ws.var(\"x\").getMax())"
     ],
     "language": "python",
     "metadata": {},
     "outputs": []
    },
    {
     "cell_type": "code",
     "collapsed": false,
     "input": [
      "ws.loadSnapshot(\"parameter_point\")\n",
      "d = pdf.generate(ROOT.RooArgSet(ws.var(\"x\")))\n",
      "g.fitTo(d,ROOT.RooFit.Range(\"signal_region\"))\n",
      "ws.pdf(\"e\").fitTo(d,ROOT.RooFit.Range(\"left_sideband,right_sideband\"))\n",
      "frame = frame.emptyClone(\"\")\n",
      "d.plotOn(frame)\n",
      "g.plotOn(frame)\n",
      "ws.pdf(\"e\").plotOn(frame,ROOT.RooFit.LineColor(ROOT.kRed))\n",
      "frame.Draw()\n",
      "c1"
     ],
     "language": "python",
     "metadata": {},
     "outputs": []
    },
    {
     "cell_type": "heading",
     "level": 2,
     "metadata": {},
     "source": [
      "Testing validity of model (Goodness-of-Fit)"
     ]
    },
    {
     "cell_type": "markdown",
     "metadata": {},
     "source": [
      "<tt>RooFit</tt> per default uses Likelihood fits when <code>RooAbsPdf::fitTo</code> is called. This method has many advantages compared to simple $\\chi^2$ fits. However, it comes with the disadvantage that the fit result, e.g. the maximised value of the likelihood function, does <b>NOT</b> contain any information about the goodness of your fit! In contrast, one can convert the minimised $\\chi^2$ value from a $\\chi^2$ fit into a $p$-value expressing the goodness-of-fit. As a reminder: if your model is able to describe the data, one expects $\\chi^2_\\text{min} / \\text{n.d.f.} \\approx 1$. In unbinned likelihood fits there is currently no option to evaluate the goodness-of-fit. Nevertheless, for binned likelihood fits one can try to evaluate the post-fit $\\chi^2$ (be aware that the obtained $\\chi^2$ value will in general differ from the result of a $\\chi^2$ fit). <br />\n",
      "As an example we will try to fit the pseudo-data generated by the exponential + gaussian model with a polynomial (2nd order) + gaussian model."
     ]
    },
    {
     "cell_type": "code",
     "collapsed": false,
     "input": [
      "# create a polynomial model\n",
      "# the expression \"expr::_x('x - 50',{x})\" just tells the polynomial PDF that its observable is (x - 50) rather than x\n",
      "# this is needed as we need the left part of the parabola to fit the decaying exponential\n",
      "ws.factory(\"Polynomial::p(expr::_x('x - 50',{x}),{a1[-0.5,-10,0],a2[0.1,0,20]})\")\n",
      "ws.factory(\"SUM::model2(s*g,b*p)\")\n",
      "# illustrate the PDF\n",
      "f = ws.var(\"x\").frame()\n",
      "ws.pdf(\"model2\").plotOn(f)\n",
      "f.Draw()\n",
      "c1"
     ],
     "language": "python",
     "metadata": {},
     "outputs": []
    },
    {
     "cell_type": "markdown",
     "metadata": {},
     "source": [
      "For the following it is handy to define a function which returns the number of free (= floating) parameters of a PDF."
     ]
    },
    {
     "cell_type": "code",
     "collapsed": false,
     "input": [
      "# returns the number of free parameters when fitting the given data\n",
      "def count_free_parameters(pdf,data):\n",
      "    free_pars = 0\n",
      "    # get all parameters\n",
      "    pars = pdf.getParameters(data)\n",
      "    # loop over parameters and count non-constant parameters\n",
      "    it = pars.createIterator()\n",
      "    o = it.Next()\n",
      "    while o:\n",
      "        if not o.isConstant():\n",
      "            free_pars += 1\n",
      "        o = it.Next()\n",
      "    return free_pars"
     ],
     "language": "python",
     "metadata": {},
     "outputs": []
    },
    {
     "cell_type": "code",
     "collapsed": false,
     "input": [
      "def toy_study(gen_pdf,fit_pdf,nToys=1000,nevents_per_toy = 100):\n",
      "    h_chi2 = ROOT.TH1F(\"h_chi2\",\";#chi^{2}/ndf;toys\",50,0,10)\n",
      "    h_chi2_prob = ROOT.TH1F(\"h_chi2_prob\",\";P(x > #chi^{2});toys\",50,0,1.001)\n",
      "    h_chi2_prob.SetMinimum(0)\n",
      "    # we need to generate a binned dataset in order to compute a chi2\n",
      "    x = ws.var(\"x\")\n",
      "    x.setBins(20)\n",
      "    ndf = ws.var(\"x\").numBins() - count_free_parameters(fit_pdf,data)\n",
      "    for i in range(1,nToys+1):\n",
      "        if i % (0.01 * nToys) == 0:\n",
      "            print \"\\r%.0f%% done\" % (i*100./nToys),\n",
      "        # important: load snapshot for parameter point used for toy generation\n",
      "        ws.loadSnapshot(\"param_point\")\n",
      "        # generate toy data\n",
      "        # d is a RooDataHist\n",
      "        d = gen_pdf.generateBinned(ROOT.RooArgSet(ws.var(\"x\")),nevents_per_toy)\n",
      "        r = fit_pdf.fitTo(d,ROOT.RooFit.Save())\n",
      "        # DataError(RooAbsData.Expected) means that the uncertainty is taken as sqrt(pdf_prediction)\n",
      "        # usual behaviour is to take uncertainty from RooDataHist which has problems in case of empty bins\n",
      "        c = ROOT.RooChi2Var(\"c\",\"c\",fit_pdf,d)#,ROOT.RooFit.DataError(ROOT.RooAbsData.Expected))\n",
      "        chi2 = c.getVal()\n",
      "        h_chi2.Fill(chi2/ndf)\n",
      "        h_chi2_prob.Fill(ROOT.TMath.Prob(chi2,ndf))\n",
      "        del d\n",
      "        del r\n",
      "        del c\n",
      "    return h_chi2,h_chi2_prob"
     ],
     "language": "python",
     "metadata": {},
     "outputs": []
    },
    {
     "cell_type": "code",
     "collapsed": false,
     "input": [
      "h1,h2 = toy_study(ws.pdf(\"model\"),ws.pdf(\"model2\"),1000,5000)\n",
      "h2.Draw()\n",
      "c1"
     ],
     "language": "python",
     "metadata": {},
     "outputs": []
    },
    {
     "cell_type": "code",
     "collapsed": false,
     "input": [
      "h1.Draw()\n",
      "c1"
     ],
     "language": "python",
     "metadata": {},
     "outputs": []
    },
    {
     "cell_type": "heading",
     "level": 2,
     "metadata": {},
     "source": [
      "Punzi Effect"
     ]
    },
    {
     "cell_type": "markdown",
     "metadata": {},
     "source": [
      "The Punzi effect occurs when fitting multi-component PDF which have variable per-event errors (<a href=\"http://arxiv.org/abs/physics/0401045\">Link to arxiv</a>). The example <tt>ROOT</tt> file contains a dataset of measurements ($x_i, \\sigma_i)$ where $x_i$ are the measurements and $\\sigma_i$ are the per-event errors. An example could be the measurement of the Higgs mass in $H \\to \\mu \\mu$ decays. The data contains two components, a signal and a background component, which are Gaussian distributed with different means (e.g. idealised situation for a $H \\to \\mu\\mu$ signal with $Z \\to \\mu\\mu$ as background). The goal is now to determine the relative fraction of signal events. <br />\n",
      "First, the example dataset is loaded and illustrated. In this example, the left peak is the signal and its relative fraction is the parameter of interest."
     ]
    },
    {
     "cell_type": "code",
     "collapsed": false,
     "input": [
      "infile = ROOT.TFile.Open(\"example.root\")\n",
      "ws = infile.Get(\"ws\")\n",
      "data = ws.data(\"punzi_example\")\n",
      "%rp data.Print(\"v\")\n",
      "frame = ws.var(\"x\").frame()\n",
      "data.plotOn(frame)\n",
      "frame.Draw()\n",
      "c1"
     ],
     "language": "python",
     "metadata": {},
     "outputs": []
    },
    {
     "cell_type": "markdown",
     "metadata": {},
     "source": [
      "As a naive ansatz one could try to fit this data as the sum of two Gaussian distributions. As the resolution is part of our dataset, but we do not want the model to be normalised over $\\sigma$, we need to specify this variable as conditional observable. In detail, this means that <tt>RooFit</tt> would see the dataset $(x,\\sigma)$ and would therefore interpret our model as $$P(x,\\sigma) = f \\times G(x,\\sigma | \\mu_1) + (1 - f) \\times G(x, \\sigma | \\mu_2).$$\n",
      "However, our actual intention was to use the model\n",
      "$$P(x) = f \\times G(x | \\sigma, \\mu_1) + (1 - f) \\times G(x | \\sigma, \\mu_2).$$<br />\n",
      "The important difference is that $\\int \\text{d}x \\int \\text{d} \\sigma G(x,\\sigma | \\mu) = 1$ while $\\int \\text{d}x G(x | \\sigma, \\mu) = 1$. Therefore, we need to tell <tt>RooFit</tt> that the resolution $\\sigma$ is a conditional observable we do not want to normalise over. Or in other words, <tt>RooFit</tt> shall interpret our model as conditional PDF."
     ]
    },
    {
     "cell_type": "code",
     "collapsed": false,
     "input": [
      "ws.factory(\"SUM::model(f[0.6,0,1] * Gaussian::g1(x,m1[-1,-5,5],res),Gaussian::g2(x,m2[-1,-5,5],res))\")\n",
      "pdf = ws.pdf(\"model\")\n",
      "r = pdf.fitTo(data,ROOT.RooFit.Save(),ROOT.RooFit.ConditionalObservables(ROOT.RooArgSet(ws.var(\"res\"))))\n",
      "%rp r.Print(\"v\")\n",
      "frame = ws.var(\"x\").frame()\n",
      "data.plotOn(frame)\n",
      "pdf.plotOn(frame)\n",
      "frame.Draw()\n",
      "c1"
     ],
     "language": "python",
     "metadata": {},
     "outputs": []
    },
    {
     "cell_type": "markdown",
     "metadata": {},
     "source": [
      "In order to test our result, we perform a $\\chi^2$ test."
     ]
    },
    {
     "cell_type": "code",
     "collapsed": false,
     "input": [
      "def toy_study(pdf,nToys=1000,cond_obs=ROOT.RooArgSet()):\n",
      "    nToys = 1000\n",
      "    h_chi2 = ROOT.TH1F(\"h_chi2\",\";#chi^{2}/ndf;toys\",50,0,10)\n",
      "    h_chi2_prob = ROOT.TH1F(\"h_chi2_prob\",\";P(x > #chi^{2});toys\",50,0,1)\n",
      "    h_chi2_prob.SetMinimum(0)\n",
      "    gen_model = ws.pdf(\"_punzi_model\")\n",
      "    x = ws.var(\"x\")\n",
      "    x.setBins(50)\n",
      "    ws.var(\"res\").setBins(38)\n",
      "    ndf = x.numBins() - count_free_parameters(pdf,data)\n",
      "    for i in range(1,nToys+1):\n",
      "        if i % (0.01 * nToys) == 0:\n",
      "            print \"\\r%.0f%% done\" % (i*100./nToys),\n",
      "        ws.loadSnapshot(\"param_point\")\n",
      "        d = gen_model.generateBinned(ws.set(\"observables\"),20000)\n",
      "        r = pdf.fitTo(d,ROOT.RooFit.Save(),ROOT.RooFit.ConditionalObservables(cond_obs))\n",
      "        tempf = ws.var(\"x\").frame()\n",
      "        d.plotOn(tempf)\n",
      "        pdf.plotOn(tempf)\n",
      "        chi2 = tempf.chiSquare() * x.numBins()\n",
      "        #print \"%.3f/%d\" %(chi2,ndf)\n",
      "        h_chi2.Fill(chi2/ndf)\n",
      "        h_chi2_prob.Fill(ROOT.TMath.Prob(chi2,ndf))\n",
      "        del d\n",
      "        del r\n",
      "        del tempf\n",
      "    return h_chi2,h_chi2_prob"
     ],
     "language": "python",
     "metadata": {},
     "outputs": []
    },
    {
     "cell_type": "code",
     "collapsed": false,
     "input": [
      "h1,h2 = toy_study(ws.pdf(\"model\"),200)"
     ],
     "language": "python",
     "metadata": {},
     "outputs": []
    },
    {
     "cell_type": "code",
     "collapsed": false,
     "input": [
      "h1.Draw()\n",
      "c1"
     ],
     "language": "python",
     "metadata": {},
     "outputs": []
    },
    {
     "cell_type": "code",
     "collapsed": false,
     "input": [
      "h2.Draw()\n",
      "c1"
     ],
     "language": "python",
     "metadata": {},
     "outputs": []
    }
   ],
   "metadata": {}
  }
 ]
}