{
 "metadata": {
  "name": "",
  "signature": "sha256:d4223ba4261837e3f7d3a99ea5b12296f3b7b2218d439ff076aaac532b854204"
 },
 "nbformat": 3,
 "nbformat_minor": 0,
 "worksheets": [
  {
   "cells": [
    {
     "cell_type": "heading",
     "level": 1,
     "metadata": {},
     "source": [
      "Short Introduction to Fitting with <tt>RooFit</tt>"
     ]
    },
    {
     "cell_type": "markdown",
     "metadata": {},
     "source": [
      "<tt>RooFit</tt> is part of the <tt>ROOT</tt> data analysis framework which is heavily used in HEP. The <tt>RooFit</tt> package provides functionalities for data modelling and fitting. It also serves as basis for the <tt>RooStats</tt> package which can be used to perform statistical interpretations of your data. "
     ]
    },
    {
     "cell_type": "markdown",
     "metadata": {},
     "source": [
      "First, you need to load the <tt>ROOT</tt> <tt>python</tt> bindings and a helper scripts to display <tt>ROOT</tt> canvases inline and capture the output from <tt>ROOT</tt>."
     ]
    },
    {
     "cell_type": "code",
     "collapsed": false,
     "input": [
      "import ROOT\n",
      "import rootnotes # for inline display of plots\n",
      "import rootprint # capturing ROOT output\n",
      "c1 = rootnotes.default_canvas();"
     ],
     "language": "python",
     "metadata": {},
     "outputs": []
    },
    {
     "cell_type": "markdown",
     "metadata": {},
     "source": [
      "Here we create a \"workspace\" object that provides a factory with a convenient syntax for statistical models and variables. The workspace also provides an I/O mechanism to read/write statistical models and data to/from files.\n",
      "\n",
      "In this example, we create a mixture model of a falling exponential distribution and a Gaussian for a variable x.\n",
      "This is really a marked Poisson process, because in addition to the pdf on x, we also encode that we expect s=50 events from the Gaussian and b=100 events from the falling exponential."
     ]
    },
    {
     "cell_type": "code",
     "collapsed": false,
     "input": [
      "%%rootprint\n",
      "ws = ROOT.RooWorkspace(\"ws\");\n",
      "ws.factory('Gaussian::g(x[0,50],mu[30,10,40],sigma[3])');\n",
      "ws.factory('Exponential::e(x,tau[-.1,-3,0])');\n",
      "ws.factory('SUM::model(s[70,0,200]*g,b[300,0,1000]*e)');\n",
      "ws.Print(\"v\")"
     ],
     "language": "python",
     "metadata": {},
     "outputs": []
    },
    {
     "cell_type": "markdown",
     "metadata": {},
     "source": [
      "Now that we have made the model, we can generate some pseudo data. The <tt>RooAbsPdf::generate</tt> method takes a set of observables to generate plus other options (<a href=https://root.cern.ch/root/html/RooAbsPdf.html#RooAbsPdf:generate>follow this link for more details</a>). If nothing else given, the number of generated events is taken from the expected number of events from the PDF (in this case <code>s+b</code>). Using the option <code>Extended()</code> samples the number of generated events from a Poisson distribution."
     ]
    },
    {
     "cell_type": "code",
     "collapsed": false,
     "input": [
      "%%rootprint\n",
      "# get RooFit objects \n",
      "x = ws.var('x')         # the observable\n",
      "pdf = ws.pdf('model')   # the model (= PDF)\n",
      "# generate 50 events\n",
      "data = pdf.generate(ROOT.RooArgSet(x),50)\n",
      "print \"generate given number of events -> n_events =\",data.sumEntries()\n",
      "del data\n",
      "\n",
      "# set s to 100 and use the Extended option\n",
      "ws.var(\"s\").setVal(100)\n",
      "data = pdf.generate(ROOT.RooArgSet(x),ROOT.RooFit.Extended())\n",
      "print \"draw number of generated events from Poisson distribution with mean mu = s+b, n =\",data.sumEntries()\n",
      "del data\n",
      "\n",
      "# generate s+b=400 events\n",
      "data = pdf.generate(ROOT.RooArgSet(x))\n",
      "print \"nothing specified -> generate expected number of events: s+b =\",data.sumEntries()"
     ],
     "language": "python",
     "metadata": {},
     "outputs": []
    },
    {
     "cell_type": "markdown",
     "metadata": {},
     "source": [
      "We can fit the model to the pseudo data and display the result. The verbosity of the fit can be controlled with the option <code>PrintLevel(N)</code>. The smaller <code>N</code>, the less output will appear (minimum is -1). In order to store, the result of the fit, the option <code>Save()</code> needs to passed as argument. Afterwards, we can access the result of the fit."
     ]
    },
    {
     "cell_type": "code",
     "collapsed": false,
     "input": [
      "%%rootprint\n",
      "# make fit\n",
      "fitResult = pdf.fitTo(data,ROOT.RooFit.Save(),ROOT.RooFit.PrintLevel(-1))\n",
      "# display results\n",
      "fitResult.Print(\"v\")"
     ],
     "language": "python",
     "metadata": {
      "slideshow": {
       "slide_type": "-"
      }
     },
     "outputs": []
    },
    {
     "cell_type": "markdown",
     "metadata": {},
     "source": [
      "The fit does actually change the values of the variables:"
     ]
    },
    {
     "cell_type": "code",
     "collapsed": false,
     "input": [
      "print 'best fit value of mean for Gaussian is %.3f \u00b1 %.3f' % (ws.var(\"mu\").getVal(),ws.var(\"mu\").getError())"
     ],
     "language": "python",
     "metadata": {},
     "outputs": []
    },
    {
     "cell_type": "markdown",
     "metadata": {},
     "source": [
      "The correlation matrix is available and can easily be visualised. The same method works for the covariance matrix."
     ]
    },
    {
     "cell_type": "code",
     "collapsed": false,
     "input": [
      "corrHist = fitResult.correlationHist()\n",
      "corrHist.SetStats(False)\n",
      "corrHist.Draw(\"colz text\")\n",
      "c1"
     ],
     "language": "python",
     "metadata": {},
     "outputs": []
    },
    {
     "cell_type": "markdown",
     "metadata": {},
     "source": [
      "We can show the result of the fit to the dataset including a visualisation of the fit uncertainty as well as the contribution from the different components. You should always plot the data first in order to ensure the correct normalisation of the PDF (<tt>RooFit</tt> magic...)"
     ]
    },
    {
     "cell_type": "code",
     "collapsed": false,
     "input": [
      "# get frame for observable\n",
      "frame = x.frame()\n",
      "# plot data first\n",
      "data.plotOn(frame)\n",
      "# plot PDF components, total PDF and its uncertainty\n",
      "pdf.plotOn(frame,ROOT.RooFit.LineColor(ROOT.kRed),ROOT.RooFit.LineStyle(ROOT.kDashed),ROOT.RooFit.Components(\"g\"))\n",
      "pdf.plotOn(frame,ROOT.RooFit.LineColor(ROOT.kGreen+3),ROOT.RooFit.LineStyle(ROOT.kDashed),ROOT.RooFit.Components(\"e\"))\n",
      "pdf.plotOn(frame,ROOT.RooFit.VisualizeError(fitResult))\n",
      "pdf.plotOn(frame)\n",
      "# draw everything\n",
      "frame.SetMinimum(0)\n",
      "frame.Draw()\n",
      "c1"
     ],
     "language": "python",
     "metadata": {},
     "outputs": []
    },
    {
     "cell_type": "markdown",
     "metadata": {},
     "source": [
      "We can also plot the likelihood function for the individual parameters."
     ]
    },
    {
     "cell_type": "code",
     "collapsed": false,
     "input": [
      "import os\n",
      "from IPython.display import Image\n",
      "pdf.graphVizTree('expressionTree.dot',' ')\n",
      "os.system(\"dot -Tpng expressionTree.dot -o Graph.png\")\n",
      "Image(filename='Graph.png')"
     ],
     "language": "python",
     "metadata": {},
     "outputs": []
    }
   ],
   "metadata": {}
  }
 ]
}